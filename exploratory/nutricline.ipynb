{
 "cells": [
  {
   "cell_type": "code",
   "execution_count": null,
   "id": "818ca9fa",
   "metadata": {},
   "outputs": [],
   "source": [
    "%matplotlib inline\n",
    "\n",
    "import numpy as np\n",
    "import pandas as pd\n",
    "import gsw\n",
    "\n"
   ]
  },
  {
   "cell_type": "code",
   "execution_count": null,
   "id": "aa153f52",
   "metadata": {},
   "outputs": [],
   "source": [
    "def get_nutricline(crit, nprof, z):\n",
    "    # use linear interpolation to find depth of nutricline based on critical value\n",
    "    # first sort the profile so it is descending with depth\n",
    "    \n",
    "    znut = np.interp(crit, nprof, z)\n",
    "    return znut"
   ]
  },
  {
   "cell_type": "code",
   "execution_count": null,
   "id": "4459d373",
   "metadata": {},
   "outputs": [],
   "source": [
    "# import argo float data\n",
    "\n",
    "infile = '../data/argo/2902754/2902754_prof.nc'"
   ]
  }
 ],
 "metadata": {
  "kernelspec": {
   "display_name": "Python 3 (ipykernel)",
   "language": "python",
   "name": "python3"
  },
  "language_info": {
   "codemirror_mode": {
    "name": "ipython",
    "version": 3
   },
   "file_extension": ".py",
   "mimetype": "text/x-python",
   "name": "python",
   "nbconvert_exporter": "python",
   "pygments_lexer": "ipython3",
   "version": "3.10.2"
  }
 },
 "nbformat": 4,
 "nbformat_minor": 5
}
