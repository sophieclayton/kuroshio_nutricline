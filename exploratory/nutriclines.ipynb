{
 "cells": [
  {
   "cell_type": "code",
   "execution_count": 32,
   "id": "cc8c9694",
   "metadata": {},
   "outputs": [],
   "source": [
    "%matplotlib inline\n",
    "\n",
    "import numpy as np\n",
    "import pandas as pd\n",
    "import gsw\n",
    "import xarray as xr\n",
    "from matplotlib import pyplot as plt\n",
    "\n",
    "from glob import glob"
   ]
  },
  {
   "cell_type": "code",
   "execution_count": 69,
   "id": "37916149",
   "metadata": {},
   "outputs": [],
   "source": [
    "def get_nutricline(crit, nprof, z):\n",
    "    # use linear interpolation to find depth of nutricline based on critical value\n",
    "    # first sort the profile so it is descending with depth\n",
    "    \n",
    "    znut = np.interp(crit, nprof, z)\n",
    "    \n",
    "    if znut <= np.min(z):\n",
    "        znut = np.nan()\n",
    "    \n",
    "    return znut\n",
    "\n",
    "\n",
    "def get_header_line(f, encode, string):\n",
    "    with open(f,encoding = encode) as myFile:\n",
    "        for num, line in enumerate(myFile, 1):\n",
    "            if string in line:\n",
    "                return num-1\n",
    "        f.close()\n",
    "\n",
    "\n",
    "def get_month(df):\n",
    "    month = []\n",
    "    for n in range(len(df)):\n",
    "        month.append(np.int(str(df['mon/day/yr'][100000]).split('/')[0].lstrip('0   ')))\n",
    "    return month\n"
   ]
  },
  {
   "cell_type": "code",
   "execution_count": 71,
   "id": "9aea1003",
   "metadata": {},
   "outputs": [
    {
     "name": "stderr",
     "output_type": "stream",
     "text": [
      "/var/folders/lp/091d4dy53sl686tn711cnzv00000gn/T/ipykernel_79296/3069341146.py:24: DeprecationWarning: `np.int` is a deprecated alias for the builtin `int`. To silence this warning, use `int` by itself. Doing this will not modify any behavior and is safe. When replacing `np.int`, you may wish to use e.g. `np.int64` or `np.int32` to specify the precision. If you wish to review your current use, check the release note link for additional information.\n",
      "Deprecated in NumPy 1.20; for more details and guidance: https://numpy.org/devdocs/release/1.20.0-notes.html#deprecations\n",
      "  month.append(np.int(str(df['mon/day/yr'][100000]).split('/')[0].lstrip('0   ')))\n"
     ]
    },
    {
     "name": "stdout",
     "output_type": "stream",
     "text": [
      "Index(['Cruise', 'Station', 'Type', 'mon/day/yr', 'hh:mm', 'Lon [°E]',\n",
      "       'Lat [°N]', 'QF', 'Pressure[dbar]', 'QF.1', 'Temperature[°C]', 'QF.2',\n",
      "       'Salinity[pss]', 'QF.3', 'Sigma_theta[kg/m^3]', 'QF.4', 'Depth[m]',\n",
      "       'QF.5', 'Oxygen[µmol/kg]', 'QF.6', 'OxygenSat[%]', 'QF.7',\n",
      "       'Nitrate[µmol/kg]', 'QF.8', 'Chl_a[mg/m^3]', 'QF.9', 'b_bp700[1/m]',\n",
      "       'QF.10', 'CDOM[ppb]', 'QF.11', 'pHinsitu[Total]', 'QF.12', 'CP660[1/m]',\n",
      "       'QF.13', 'D_IRRAD380[W/m^2/nm]', 'QF.14', 'D_IRRAD412[W/m^2/nm]',\n",
      "       'QF.15', 'D_IRRAD490[W/m^2/nm]', 'QF.16', 'D_PAR[W/m^2/nm]', 'QF.17',\n",
      "       'month'],\n",
      "      dtype='object')\n",
      "../data/argo/ODV2902754QC.TXT\n"
     ]
    },
    {
     "name": "stderr",
     "output_type": "stream",
     "text": [
      "/var/folders/lp/091d4dy53sl686tn711cnzv00000gn/T/ipykernel_79296/3069341146.py:24: DeprecationWarning: `np.int` is a deprecated alias for the builtin `int`. To silence this warning, use `int` by itself. Doing this will not modify any behavior and is safe. When replacing `np.int`, you may wish to use e.g. `np.int64` or `np.int32` to specify the precision. If you wish to review your current use, check the release note link for additional information.\n",
      "Deprecated in NumPy 1.20; for more details and guidance: https://numpy.org/devdocs/release/1.20.0-notes.html#deprecations\n",
      "  month.append(np.int(str(df['mon/day/yr'][100000]).split('/')[0].lstrip('0   ')))\n"
     ]
    },
    {
     "name": "stdout",
     "output_type": "stream",
     "text": [
      "Index(['Cruise', 'Station', 'Type', 'mon/day/yr', 'hh:mm', 'Lon [°E]',\n",
      "       'Lat [°N]', 'QF', 'Pressure[dbar]', 'QF.1', 'Temperature[°C]', 'QF.2',\n",
      "       'Salinity[pss]', 'QF.3', 'Sigma_theta[kg/m^3]', 'QF.4', 'Depth[m]',\n",
      "       'QF.5', 'Oxygen[µmol/kg]', 'QF.6', 'OxygenSat[%]', 'QF.7',\n",
      "       'Nitrate[µmol/kg]', 'QF.8', 'Chl_a[mg/m^3]', 'QF.9', 'b_bp700[1/m]',\n",
      "       'QF.10', 'CDOM[ppb]', 'QF.11', 'pHinsitu[Total]', 'QF.12', 'CP660[1/m]',\n",
      "       'QF.13', 'D_IRRAD380[W/m^2/nm]', 'QF.14', 'D_IRRAD412[W/m^2/nm]',\n",
      "       'QF.15', 'D_IRRAD490[W/m^2/nm]', 'QF.16', 'D_PAR[W/m^2/nm]', 'QF.17',\n",
      "       'month'],\n",
      "      dtype='object')\n",
      "../data/argo/ODV2902755QC.TXT\n"
     ]
    },
    {
     "name": "stderr",
     "output_type": "stream",
     "text": [
      "/var/folders/lp/091d4dy53sl686tn711cnzv00000gn/T/ipykernel_79296/3069341146.py:24: DeprecationWarning: `np.int` is a deprecated alias for the builtin `int`. To silence this warning, use `int` by itself. Doing this will not modify any behavior and is safe. When replacing `np.int`, you may wish to use e.g. `np.int64` or `np.int32` to specify the precision. If you wish to review your current use, check the release note link for additional information.\n",
      "Deprecated in NumPy 1.20; for more details and guidance: https://numpy.org/devdocs/release/1.20.0-notes.html#deprecations\n",
      "  month.append(np.int(str(df['mon/day/yr'][100000]).split('/')[0].lstrip('0   ')))\n"
     ]
    },
    {
     "ename": "KeyError",
     "evalue": "100000",
     "output_type": "error",
     "traceback": [
      "\u001b[0;31m---------------------------------------------------------------------------\u001b[0m",
      "\u001b[0;31mValueError\u001b[0m                                Traceback (most recent call last)",
      "File \u001b[0;32m~/opt/anaconda3/envs/knut/lib/python3.10/site-packages/pandas/core/indexes/range.py:385\u001b[0m, in \u001b[0;36mRangeIndex.get_loc\u001b[0;34m(self, key, method, tolerance)\u001b[0m\n\u001b[1;32m    384\u001b[0m \u001b[38;5;28;01mtry\u001b[39;00m:\n\u001b[0;32m--> 385\u001b[0m     \u001b[38;5;28;01mreturn\u001b[39;00m \u001b[38;5;28;43mself\u001b[39;49m\u001b[38;5;241;43m.\u001b[39;49m\u001b[43m_range\u001b[49m\u001b[38;5;241;43m.\u001b[39;49m\u001b[43mindex\u001b[49m\u001b[43m(\u001b[49m\u001b[43mnew_key\u001b[49m\u001b[43m)\u001b[49m\n\u001b[1;32m    386\u001b[0m \u001b[38;5;28;01mexcept\u001b[39;00m \u001b[38;5;167;01mValueError\u001b[39;00m \u001b[38;5;28;01mas\u001b[39;00m err:\n",
      "\u001b[0;31mValueError\u001b[0m: 100000 is not in range",
      "\nThe above exception was the direct cause of the following exception:\n",
      "\u001b[0;31mKeyError\u001b[0m                                  Traceback (most recent call last)",
      "Input \u001b[0;32mIn [71]\u001b[0m, in \u001b[0;36m<cell line: 8>\u001b[0;34m()\u001b[0m\n\u001b[1;32m     12\u001b[0m num \u001b[38;5;241m=\u001b[39m get_header_line(f, encode, string)\n\u001b[1;32m     14\u001b[0m data \u001b[38;5;241m=\u001b[39m pd\u001b[38;5;241m.\u001b[39mread_csv(f, header \u001b[38;5;241m=\u001b[39m num, encoding\u001b[38;5;241m=\u001b[39m\u001b[38;5;124m'\u001b[39m\u001b[38;5;124mcp1252\u001b[39m\u001b[38;5;124m'\u001b[39m, sep \u001b[38;5;241m=\u001b[39m \u001b[38;5;124m'\u001b[39m\u001b[38;5;130;01m\\t\u001b[39;00m\u001b[38;5;124m'\u001b[39m, on_bad_lines\u001b[38;5;241m=\u001b[39m\u001b[38;5;124m'\u001b[39m\u001b[38;5;124mskip\u001b[39m\u001b[38;5;124m'\u001b[39m)\n\u001b[0;32m---> 15\u001b[0m data[\u001b[38;5;124m'\u001b[39m\u001b[38;5;124mmonth\u001b[39m\u001b[38;5;124m'\u001b[39m] \u001b[38;5;241m=\u001b[39m \u001b[43mget_month\u001b[49m\u001b[43m(\u001b[49m\u001b[43mdata\u001b[49m\u001b[43m)\u001b[49m\n\u001b[1;32m     17\u001b[0m \u001b[38;5;28mprint\u001b[39m(data\u001b[38;5;241m.\u001b[39mcolumns)\n\u001b[1;32m     18\u001b[0m nutc \u001b[38;5;241m=\u001b[39m pd\u001b[38;5;241m.\u001b[39mconcat([nutc, tmp], ignore_index \u001b[38;5;241m=\u001b[39m \u001b[38;5;28;01mTrue\u001b[39;00m)\n",
      "Input \u001b[0;32mIn [69]\u001b[0m, in \u001b[0;36mget_month\u001b[0;34m(df)\u001b[0m\n\u001b[1;32m     22\u001b[0m month \u001b[38;5;241m=\u001b[39m []\n\u001b[1;32m     23\u001b[0m \u001b[38;5;28;01mfor\u001b[39;00m n \u001b[38;5;129;01min\u001b[39;00m \u001b[38;5;28mrange\u001b[39m(\u001b[38;5;28mlen\u001b[39m(df)):\n\u001b[0;32m---> 24\u001b[0m     month\u001b[38;5;241m.\u001b[39mappend(np\u001b[38;5;241m.\u001b[39mint(\u001b[38;5;28mstr\u001b[39m(\u001b[43mdf\u001b[49m\u001b[43m[\u001b[49m\u001b[38;5;124;43m'\u001b[39;49m\u001b[38;5;124;43mmon/day/yr\u001b[39;49m\u001b[38;5;124;43m'\u001b[39;49m\u001b[43m]\u001b[49m\u001b[43m[\u001b[49m\u001b[38;5;241;43m100000\u001b[39;49m\u001b[43m]\u001b[49m)\u001b[38;5;241m.\u001b[39msplit(\u001b[38;5;124m'\u001b[39m\u001b[38;5;124m/\u001b[39m\u001b[38;5;124m'\u001b[39m)[\u001b[38;5;241m0\u001b[39m]\u001b[38;5;241m.\u001b[39mlstrip(\u001b[38;5;124m'\u001b[39m\u001b[38;5;124m0   \u001b[39m\u001b[38;5;124m'\u001b[39m)))\n\u001b[1;32m     25\u001b[0m \u001b[38;5;28;01mreturn\u001b[39;00m month\n",
      "File \u001b[0;32m~/opt/anaconda3/envs/knut/lib/python3.10/site-packages/pandas/core/series.py:958\u001b[0m, in \u001b[0;36mSeries.__getitem__\u001b[0;34m(self, key)\u001b[0m\n\u001b[1;32m    955\u001b[0m     \u001b[38;5;28;01mreturn\u001b[39;00m \u001b[38;5;28mself\u001b[39m\u001b[38;5;241m.\u001b[39m_values[key]\n\u001b[1;32m    957\u001b[0m \u001b[38;5;28;01melif\u001b[39;00m key_is_scalar:\n\u001b[0;32m--> 958\u001b[0m     \u001b[38;5;28;01mreturn\u001b[39;00m \u001b[38;5;28;43mself\u001b[39;49m\u001b[38;5;241;43m.\u001b[39;49m\u001b[43m_get_value\u001b[49m\u001b[43m(\u001b[49m\u001b[43mkey\u001b[49m\u001b[43m)\u001b[49m\n\u001b[1;32m    960\u001b[0m \u001b[38;5;28;01mif\u001b[39;00m is_hashable(key):\n\u001b[1;32m    961\u001b[0m     \u001b[38;5;66;03m# Otherwise index.get_value will raise InvalidIndexError\u001b[39;00m\n\u001b[1;32m    962\u001b[0m     \u001b[38;5;28;01mtry\u001b[39;00m:\n\u001b[1;32m    963\u001b[0m         \u001b[38;5;66;03m# For labels that don't resolve as scalars like tuples and frozensets\u001b[39;00m\n",
      "File \u001b[0;32m~/opt/anaconda3/envs/knut/lib/python3.10/site-packages/pandas/core/series.py:1069\u001b[0m, in \u001b[0;36mSeries._get_value\u001b[0;34m(self, label, takeable)\u001b[0m\n\u001b[1;32m   1066\u001b[0m     \u001b[38;5;28;01mreturn\u001b[39;00m \u001b[38;5;28mself\u001b[39m\u001b[38;5;241m.\u001b[39m_values[label]\n\u001b[1;32m   1068\u001b[0m \u001b[38;5;66;03m# Similar to Index.get_value, but we do not fall back to positional\u001b[39;00m\n\u001b[0;32m-> 1069\u001b[0m loc \u001b[38;5;241m=\u001b[39m \u001b[38;5;28;43mself\u001b[39;49m\u001b[38;5;241;43m.\u001b[39;49m\u001b[43mindex\u001b[49m\u001b[38;5;241;43m.\u001b[39;49m\u001b[43mget_loc\u001b[49m\u001b[43m(\u001b[49m\u001b[43mlabel\u001b[49m\u001b[43m)\u001b[49m\n\u001b[1;32m   1070\u001b[0m \u001b[38;5;28;01mreturn\u001b[39;00m \u001b[38;5;28mself\u001b[39m\u001b[38;5;241m.\u001b[39mindex\u001b[38;5;241m.\u001b[39m_get_values_for_loc(\u001b[38;5;28mself\u001b[39m, loc, label)\n",
      "File \u001b[0;32m~/opt/anaconda3/envs/knut/lib/python3.10/site-packages/pandas/core/indexes/range.py:387\u001b[0m, in \u001b[0;36mRangeIndex.get_loc\u001b[0;34m(self, key, method, tolerance)\u001b[0m\n\u001b[1;32m    385\u001b[0m         \u001b[38;5;28;01mreturn\u001b[39;00m \u001b[38;5;28mself\u001b[39m\u001b[38;5;241m.\u001b[39m_range\u001b[38;5;241m.\u001b[39mindex(new_key)\n\u001b[1;32m    386\u001b[0m     \u001b[38;5;28;01mexcept\u001b[39;00m \u001b[38;5;167;01mValueError\u001b[39;00m \u001b[38;5;28;01mas\u001b[39;00m err:\n\u001b[0;32m--> 387\u001b[0m         \u001b[38;5;28;01mraise\u001b[39;00m \u001b[38;5;167;01mKeyError\u001b[39;00m(key) \u001b[38;5;28;01mfrom\u001b[39;00m \u001b[38;5;21;01merr\u001b[39;00m\n\u001b[1;32m    388\u001b[0m \u001b[38;5;28mself\u001b[39m\u001b[38;5;241m.\u001b[39m_check_indexing_error(key)\n\u001b[1;32m    389\u001b[0m \u001b[38;5;28;01mraise\u001b[39;00m \u001b[38;5;167;01mKeyError\u001b[39;00m(key)\n",
      "\u001b[0;31mKeyError\u001b[0m: 100000"
     ]
    }
   ],
   "source": [
    "# import QC'd nitrate profiles\n",
    "\n",
    "infiles = glob('../data/argo/*.TXT')\n",
    "\n",
    "column_names = [\"lon\", \"lat\", \"znut\", \"mon/day/yr\"]\n",
    "nutc = pd.DataFrame(columns = column_names)\n",
    "\n",
    "for f in infiles:\n",
    "    \n",
    "    string = \"Cruise\"\n",
    "    encode='cp1252'\n",
    "    num = get_header_line(f, encode, string)\n",
    "            \n",
    "    data = pd.read_csv(f, header = num, encoding='cp1252', sep = '\\t', on_bad_lines='skip')\n",
    "    data['month'] = get_month(data)\n",
    "    \n",
    "    print(data.columns)\n",
    "    nutc = pd.concat([nutc, tmp], ignore_index = True)\n",
    "    print(f)"
   ]
  },
  {
   "cell_type": "code",
   "execution_count": 66,
   "id": "b26cdfec",
   "metadata": {},
   "outputs": [
    {
     "name": "stderr",
     "output_type": "stream",
     "text": [
      "/var/folders/lp/091d4dy53sl686tn711cnzv00000gn/T/ipykernel_79296/3930538786.py:1: DeprecationWarning: `np.int` is a deprecated alias for the builtin `int`. To silence this warning, use `int` by itself. Doing this will not modify any behavior and is safe. When replacing `np.int`, you may wish to use e.g. `np.int64` or `np.int32` to specify the precision. If you wish to review your current use, check the release note link for additional information.\n",
      "Deprecated in NumPy 1.20; for more details and guidance: https://numpy.org/devdocs/release/1.20.0-notes.html#deprecations\n",
      "  np.int(str(data['mon/day/yr'][100000]).split('/')[0].lstrip('0   '))\n"
     ]
    },
    {
     "data": {
      "text/plain": [
       "10"
      ]
     },
     "execution_count": 66,
     "metadata": {},
     "output_type": "execute_result"
    }
   ],
   "source": [
    "np.int(str(data['mon/day/yr'][100000]).split('/')[0].lstrip('0   '))"
   ]
  },
  {
   "cell_type": "code",
   "execution_count": 65,
   "id": "d2769696",
   "metadata": {},
   "outputs": [
    {
     "data": {
      "text/plain": [
       "Cruise                       5904035\n",
       "Station                          183\n",
       "Type                               C\n",
       "mon/day/yr                10/06/2015\n",
       "hh:mm                          15:46\n",
       "Lon [°E]                     171.471\n",
       "Lat [°N]                      31.723\n",
       "QF                                 0\n",
       "Pressure[dbar]                 236.0\n",
       "QF.1                             0.0\n",
       "Temperature[°C]               16.495\n",
       "QF.2                             0.0\n",
       "Salinity[pss]                 34.689\n",
       "QF.3                             0.0\n",
       "Sigma_theta[kg/m^3]           25.404\n",
       "QF.4                             0.0\n",
       "Depth[m]                     234.227\n",
       "QF.5                             0.0\n",
       "Oxygen[µmol/kg]       -10000000000.0\n",
       "QF.6                             1.0\n",
       "OxygenSat[%]          -10000000000.0\n",
       "QF.7                             1.0\n",
       "Nitrate[µmol/kg]      -10000000000.0\n",
       "QF.8                             1.0\n",
       "Chl_a[mg/m^3]         -10000000000.0\n",
       "QF.9                             1.0\n",
       "b_bp700[1/m]          -10000000000.0\n",
       "QF.10                            1.0\n",
       "CDOM[ppb]             -10000000000.0\n",
       "QF.11                            1.0\n",
       "pHinsitu[Total]       -10000000000.0\n",
       "QF.12                            1.0\n",
       "CP660[1/m]            -10000000000.0\n",
       "QF.13                            1.0\n",
       "Name: 100000, dtype: object"
      ]
     },
     "execution_count": 65,
     "metadata": {},
     "output_type": "execute_result"
    }
   ],
   "source": [
    "data.iloc[100000,:]"
   ]
  },
  {
   "cell_type": "code",
   "execution_count": null,
   "id": "ba46cd7e",
   "metadata": {},
   "outputs": [],
   "source": []
  }
 ],
 "metadata": {
  "kernelspec": {
   "display_name": "Python 3 (ipykernel)",
   "language": "python",
   "name": "python3"
  },
  "language_info": {
   "codemirror_mode": {
    "name": "ipython",
    "version": 3
   },
   "file_extension": ".py",
   "mimetype": "text/x-python",
   "name": "python",
   "nbconvert_exporter": "python",
   "pygments_lexer": "ipython3",
   "version": "3.10.2"
  }
 },
 "nbformat": 4,
 "nbformat_minor": 5
}
